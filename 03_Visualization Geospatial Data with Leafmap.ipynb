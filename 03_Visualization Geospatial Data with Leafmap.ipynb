{
 "cells": [
  {
   "cell_type": "markdown",
   "id": "98ac1fb0",
   "metadata": {},
   "source": [
    "<center><h1><font color=\"blue\">LeafMap</font></h1></center>\n",
    "<h3>This notebook aims at creating visualizations on a local machine using the LeafMap library.</h3>"
   ]
  },
  {
   "cell_type": "markdown",
   "id": "f0586a5b",
   "metadata": {},
   "source": [
    "### A. Visualization of GeoTIFFS"
   ]
  },
  {
   "cell_type": "code",
   "execution_count": 1,
   "id": "03bbe101",
   "metadata": {},
   "outputs": [],
   "source": [
    "# uncomment to install\n",
    "# conda install mamba -c conda-forge\n",
    "# mamba install leafmap xarray_leaflet localtileserver -c conda-forge"
   ]
  },
  {
   "cell_type": "code",
   "execution_count": 2,
   "id": "ca31caa7",
   "metadata": {},
   "outputs": [],
   "source": [
    "import os\n",
    "import leafmap.leafmap as leafmap"
   ]
  },
  {
   "cell_type": "markdown",
   "id": "b96f761c",
   "metadata": {},
   "source": [
    "<p> Set the path to your local .tifs  </p>"
   ]
  },
  {
   "cell_type": "code",
   "execution_count": 3,
   "id": "6e0e08ca",
   "metadata": {},
   "outputs": [],
   "source": [
    "path = '/storage/cyprus/s2/2022/36SVD/01/01/'"
   ]
  },
  {
   "cell_type": "markdown",
   "id": "b193ac10",
   "metadata": {},
   "source": [
    "<p>Iterate over the tifs and add them to a leafmap object</p>"
   ]
  },
  {
   "cell_type": "code",
   "execution_count": 4,
   "id": "12cbc66b",
   "metadata": {},
   "outputs": [],
   "source": [
    "Map = leafmap.Map()\n",
    "for tif in os.listdir(path):\n",
    "    if not tif.endswith('TCI.tif'):\n",
    "        continue\n",
    "    full_path_tif = os.path.join(path,tif)\n",
    "    Map.add_local_tile(full_path_tif, colormap='terrain', layer_name=tif)"
   ]
  },
  {
   "cell_type": "markdown",
   "id": "7cbb981d",
   "metadata": {},
   "source": [
    "<p> Display Map </p>"
   ]
  },
  {
   "cell_type": "code",
   "execution_count": 5,
   "id": "b98ee489",
   "metadata": {},
   "outputs": [
    {
     "data": {
      "application/vnd.jupyter.widget-view+json": {
       "model_id": "dc6a40bf811648009644c7680d5c936f",
       "version_major": 2,
       "version_minor": 0
      },
      "text/plain": [
       "Map(center=[20, 0], controls=(ZoomControl(options=['position', 'zoom_in_text', 'zoom_in_title', 'zoom_out_text…"
      ]
     },
     "metadata": {},
     "output_type": "display_data"
    }
   ],
   "source": [
    "Map # use the upper right icon and then the left one from the pop up window to choose layer"
   ]
  },
  {
   "cell_type": "markdown",
   "id": "d2cf7071",
   "metadata": {},
   "source": [
    "### B. Connection to database"
   ]
  },
  {
   "cell_type": "markdown",
   "id": "eccbdd2c",
   "metadata": {},
   "source": [
    "The following code connects to a database so to load vector on the map"
   ]
  },
  {
   "cell_type": "code",
   "execution_count": 6,
   "id": "83fa2b9e",
   "metadata": {},
   "outputs": [
    {
     "data": {
      "application/vnd.jupyter.widget-view+json": {
       "model_id": "6835cf61bf2a4ceea6d3f91f0c973f7f",
       "version_major": 2,
       "version_minor": 0
      },
      "text/plain": [
       "Map(center=[20, 0], controls=(ZoomControl(options=['position', 'zoom_in_text', 'zoom_in_title', 'zoom_out_text…"
      ]
     },
     "metadata": {},
     "output_type": "display_data"
    }
   ],
   "source": [
    "try:\n",
    "    connection = leafmap.connect_postgis(database='envisiondb',host='localhost',user='postgres',password='postgres')\n",
    "    sql = 'SELECT * FROM parcels where country_id = 2 limit 10000'\n",
    "    m = leafmap.Map()\n",
    "    m.add_gdf_from_postgis(\n",
    "        sql, connection, layer_name=\"Farmers' Declarations (Cyprus,2020)\", fill_colors=[\"red\", \"green\", \"blue\"]\n",
    "    )\n",
    "    display(m)\n",
    "except Exception as e:\n",
    "    print(\"Problem:\",e)"
   ]
  },
  {
   "cell_type": "code",
   "execution_count": null,
   "id": "122718fa",
   "metadata": {},
   "outputs": [],
   "source": []
  }
 ],
 "metadata": {
  "kernelspec": {
   "display_name": "Python 3 (ipykernel)",
   "language": "python",
   "name": "python3"
  },
  "language_info": {
   "codemirror_mode": {
    "name": "ipython",
    "version": 3
   },
   "file_extension": ".py",
   "mimetype": "text/x-python",
   "name": "python",
   "nbconvert_exporter": "python",
   "pygments_lexer": "ipython3",
   "version": "3.8.12"
  }
 },
 "nbformat": 4,
 "nbformat_minor": 5
}
